{
 "cells": [
  {
   "cell_type": "code",
   "execution_count": 13,
   "metadata": {},
   "outputs": [
    {
     "data": {
      "text/plain": [
       "True"
      ]
     },
     "execution_count": 13,
     "metadata": {},
     "output_type": "execute_result"
    }
   ],
   "source": [
    "import ipywidgets\n",
    "from dotenv import load_dotenv\n",
    "\n",
    "import json\n",
    "import os\n",
    "from pathlib import Path\n",
    "from omegaconf import OmegaConf\n",
    "from pregex.core.quantifiers import Optional\n",
    "from pregex.core.groups import Capture\n",
    "from pregex.core.operators import Either\n",
    "from pregex.meta.essentials import Integer\n",
    "from pregex.core.classes import AnyLetter, AnyDigit\n",
    "from pregex.core.assertions import MatchAtEnd, MatchAtStart, EnclosedBy\n",
    "from pregex.core import Pregex\n",
    "\n",
    "from typing import Literal\n",
    "\n",
    "from ipywidgets import interact, interactive, fixed, interact_manual\n",
    "import ipywidgets as widgets\n",
    "\n",
    "from typing import List\n",
    "\n",
    "from rich import print as rprint\n",
    "from pprint import pprint as pp\n",
    "\n",
    "load_dotenv()"
   ]
  },
  {
   "cell_type": "markdown",
   "metadata": {},
   "source": [
    "# Choose Season Year and Type of Game"
   ]
  },
  {
   "cell_type": "code",
   "execution_count": 2,
   "metadata": {},
   "outputs": [],
   "source": [
    "def extract_game_ids_regular_or_playoff(type_of_game : Literal[2,3], path_json_files : Path):\n",
    "    regex_filename = MatchAtStart(4*AnyDigit()) + str(type_of_game).zfill(2) + MatchAtEnd(4*AnyDigit())\n",
    "    return list(filter(lambda p : regex_filename.get_matches(p.stem), path_json_files.glob('*')))"
   ]
  },
  {
   "cell_type": "code",
   "execution_count": 3,
   "metadata": {},
   "outputs": [],
   "source": [
    "def extract_gamestat_regular_or_playoff(\n",
    "    season_year : str,\n",
    "    type_of_game : Literal[2,3]\n",
    "    ) -> List[Path]:\n",
    "\n",
    "    if os.getenv('DATA_FOLDER'):\n",
    "        root_data_path = os.getenv('DATA_FOLDER')\n",
    "    else:\n",
    "        raise RuntimeError(f'''\n",
    "                            PLEASE RUN dotenv.load_dotenv() WITH SPECIFYING A VENV VAR: DATA_FOLDER\n",
    "                            ''')\n",
    "    \n",
    "    # The next 2 digits give the type of game, where 01 = preseason, 02 = regular season, 03 = playoffs, 04 = all-star\n",
    "    json_file_path = Path(root_data_path) / season_year \n",
    "    games_ids = extract_game_ids_regular_or_playoff(type_of_game, json_file_path)\n",
    "    return games_ids\n"
   ]
  },
  {
   "cell_type": "markdown",
   "metadata": {},
   "source": [
    "## TEST"
   ]
  },
  {
   "cell_type": "code",
   "execution_count": 4,
   "metadata": {},
   "outputs": [
    {
     "data": {
      "application/vnd.jupyter.widget-view+json": {
       "model_id": "f54e7166f8ac4168a3f1d806a1940b78",
       "version_major": 2,
       "version_minor": 0
      },
      "text/plain": [
       "interactive(children=(Dropdown(description='Choose the NHL Season year (2016 -> 2016-2017) : ', layout=Layout(…"
      ]
     },
     "metadata": {},
     "output_type": "display_data"
    },
    {
     "data": {
      "text/plain": [
       "<function __main__.extract_gamestat_regular_or_playoff(season_year: str, type_of_game: Literal[2, 3]) -> List[pathlib.Path]>"
      ]
     },
     "execution_count": 4,
     "metadata": {},
     "output_type": "execute_result"
    }
   ],
   "source": [
    "YEARS = list(map(lambda p : p.name, Path('./data/').glob('[0-9]*')))\n",
    "interact(\n",
    "    extract_gamestat_regular_or_playoff,\n",
    "    season_year = widgets.Dropdown(\n",
    "        options=YEARS,\n",
    "        value=YEARS[0],\n",
    "        description='Choose the NHL Season year (2016 -> 2016-2017) : ',\n",
    "        layout={'width': 'max-content'}\n",
    "    ),\n",
    "    type_of_game=widgets.ToggleButtons(\n",
    "        options = [2, 3],\n",
    "        value=3,\n",
    "        description='Select type of game : ',\n",
    "        tooltips=['Preseason', 'Regular season', 'Playoffs', 'All-Star'],\n",
    "        layout={'width': 'max-content'}\n",
    "    )\n",
    ")"
   ]
  },
  {
   "cell_type": "markdown",
   "metadata": {},
   "source": [
    "# Choose Game ID"
   ]
  },
  {
   "cell_type": "code",
   "execution_count": 5,
   "metadata": {},
   "outputs": [],
   "source": [
    "def extract_game_stat_per_games(\n",
    "        data_generator : list[Path],\n",
    "        game_id : int,\n",
    "\t\tverbose : bool = False,\n",
    "    ):\n",
    "\n",
    "\twith open(data_generator[game_id] ,'r') as json_file_buffer:\n",
    "\t\tfile_content = json.load(json_file_buffer)\n",
    "\tdata = OmegaConf.create(file_content)\n",
    "\n",
    "\tif verbose:\n",
    "\t\tprint(data.gameData.datetime.dateTime)\n",
    "\t\tprint(f' {data.gameData.teams.home.abbreviation} {data.gameData.teams.home.name} (home) vs {data.gameData.teams.away.abbreviation} {data.gameData.teams.away.name} (away)')    \n",
    "\t\tprint(f' \\t Final Score : {data.liveData.boxscore.teams.home.teamStats.teamSkaterStats.goals} - {data.liveData.boxscore.teams.away.teamStats.teamSkaterStats.goals}')    \n",
    "\t\tprint(f' \\t ShotsOnGoal : {data.liveData.boxscore.teams.home.teamStats.teamSkaterStats.shots} - {data.liveData.boxscore.teams.away.teamStats.teamSkaterStats.shots}')\n",
    "\t\tprint(f' \\t Nb. of OTs : {len(data.liveData.linescore.periods) - 3}')\n",
    "\treturn data"
   ]
  },
  {
   "cell_type": "markdown",
   "metadata": {},
   "source": [
    "## TEST"
   ]
  },
  {
   "cell_type": "code",
   "execution_count": 6,
   "metadata": {},
   "outputs": [
    {
     "data": {
      "application/vnd.jupyter.widget-view+json": {
       "model_id": "dc91da09467a462daeae05480f7e1c43",
       "version_major": 2,
       "version_minor": 0
      },
      "text/plain": [
       "interactive(children=(IntSlider(value=0, description='Game ID:', max=82), Output()), _dom_classes=('widget-int…"
      ]
     },
     "metadata": {},
     "output_type": "display_data"
    },
    {
     "data": {
      "text/plain": [
       "<function __main__.extract_game_stat_per_games(data_generator: list[pathlib.Path], game_id: int, verbose: bool = False)>"
      ]
     },
     "execution_count": 6,
     "metadata": {},
     "output_type": "execute_result"
    }
   ],
   "source": [
    "interact(\n",
    "    extract_game_stat_per_games,\n",
    "    data_generator = fixed(extract_gamestat_regular_or_playoff(season_year='2016', type_of_game=3)),\n",
    "    game_id = widgets.IntSlider(\n",
    "        value=0,\n",
    "        min=0,\n",
    "        max=82,\n",
    "        step=1,\n",
    "        description='Game ID:',\n",
    "        disabled=False,\n",
    "        continuous_update=True,\n",
    "        orientation='horizontal',\n",
    "        readout=True,\n",
    "        readout_format='d',\n",
    "    ),\n",
    "    verbose = fixed(True)\n",
    ")"
   ]
  },
  {
   "cell_type": "markdown",
   "metadata": {},
   "source": [
    "# Choose Play ID to plot"
   ]
  },
  {
   "cell_type": "code",
   "execution_count": 7,
   "metadata": {},
   "outputs": [],
   "source": [
    "def plot_play_on_svg(\n",
    "        play_to_plot,\n",
    "        svg_file_path,\n",
    "    ):\n",
    "\n",
    "    import matplotlib.pyplot as plt\n",
    "    import matplotlib.image as mpimg\n",
    "    import numpy as np\n",
    "\n",
    "    img = mpimg.imread(svg_file_path)\n",
    "\n",
    "    # Create a figure and axis\n",
    "    fig, ax = plt.subplots()\n",
    "    ax.imshow(img,origin='lower')\n",
    "\n",
    "    # Set the tick positions and labels\n",
    "    ax.set_xticks([0, img.shape[1] // 2, img.shape[1]])\n",
    "    ax.set_yticks([0, img.shape[0] // 2, img.shape[0]])\n",
    "    ax.set_xticklabels([-img.shape[1] // 2, 0, img.shape[1] // 2])\n",
    "    ax.set_yticklabels([-img.shape[0] // 2, 0, img.shape[0] // 2])\n",
    "\n",
    "    coords = np.array(list(map(int, play_to_plot.coordinates.values()))) + np.array([img.shape[1] // 2, img.shape[0] // 2])\n",
    "    ax.plot(*coords, 'go')\n",
    "\n",
    "    plt.title(f'{play_to_plot.team.name} play - {play_to_plot.result.description} - Period {play_to_plot.about.period} {play_to_plot.about.periodTime}')\n",
    "    plt.show()"
   ]
  },
  {
   "cell_type": "code",
   "execution_count": 9,
   "metadata": {},
   "outputs": [],
   "source": [
    "def display_on_hockey_court_play(data_plays, index_play, svg_file_path : Path):\n",
    "\n",
    "    list_of_plays = data_plays.liveData.plays.allPlays\n",
    "    \n",
    "\n",
    "    play_of_interest = list_of_plays[index_play]\n",
    "    if not play_of_interest.coordinates == {}:\n",
    "        plot_play_on_svg(list_of_plays[index_play], svg_file_path)\n",
    "    else:\n",
    "        print('No coordinates available for this play')\n",
    "    \n",
    "    print(json.dumps(OmegaConf.to_object(play_of_interest), indent=4))"
   ]
  },
  {
   "cell_type": "markdown",
   "metadata": {},
   "source": [
    "## TEST"
   ]
  },
  {
   "cell_type": "code",
   "execution_count": 10,
   "metadata": {},
   "outputs": [
    {
     "data": {
      "application/vnd.jupyter.widget-view+json": {
       "model_id": "28eb2d4e8f2e439799ff500a4d7b4563",
       "version_major": 2,
       "version_minor": 0
      },
      "text/plain": [
       "interactive(children=(IntSlider(value=0, description='Play ID:', max=595), Output()), _dom_classes=('widget-in…"
      ]
     },
     "metadata": {},
     "output_type": "display_data"
    },
    {
     "data": {
      "text/plain": [
       "<function __main__.display_on_hockey_court_play(data_plays, index_play, svg_file_path: pathlib.Path)>"
      ]
     },
     "execution_count": 10,
     "metadata": {},
     "output_type": "execute_result"
    }
   ],
   "source": [
    "interact(\n",
    "    display_on_hockey_court_play,\n",
    "    data_plays = fixed(extract_game_stat_per_games(\n",
    "        data_generator = extract_gamestat_regular_or_playoff(season_year='2016', type_of_game=3),\n",
    "        game_id = 0,\n",
    "        verbose=False,\n",
    "    )),\n",
    "    index_play = widgets.IntSlider(\n",
    "        value=0,\n",
    "        min=0,\n",
    "        max=len(extract_game_stat_per_games(\n",
    "            data_generator = extract_gamestat_regular_or_playoff(season_year='2016', type_of_game=3),\n",
    "            game_id = 0,\n",
    "        ).liveData.plays.allPlays),\n",
    "        step=1,\n",
    "        description='Play ID:',\n",
    "        disabled=False,\n",
    "        continuous_update=True,\n",
    "        orientation='horizontal',\n",
    "        readout=True,\n",
    "        readout_format='d',\n",
    "    ),\n",
    "    svg_file_path = fixed('./hocker_court.jpg')\n",
    ")\n"
   ]
  },
  {
   "cell_type": "markdown",
   "metadata": {},
   "source": [
    "# Debugging Widget"
   ]
  },
  {
   "cell_type": "code",
   "execution_count": 11,
   "metadata": {},
   "outputs": [],
   "source": [
    "def display_game_stat(\n",
    "        season_year : str,\n",
    "        type_of_game : Literal[2,3],\n",
    "        game_id : int,\n",
    "        index_play : int,\n",
    "        SVG_FILE_PATH : str\n",
    "    ):\n",
    "\n",
    "    path_files_generator = extract_gamestat_regular_or_playoff(season_year, type_of_game)\n",
    "    data_plays = extract_game_stat_per_games(path_files_generator, game_id, verbose=True)\n",
    "    display_on_hockey_court_play( data_plays, index_play, SVG_FILE_PATH)"
   ]
  },
  {
   "cell_type": "code",
   "execution_count": 12,
   "metadata": {},
   "outputs": [
    {
     "data": {
      "application/vnd.jupyter.widget-view+json": {
       "model_id": "2b6554950a884fac918373ea977adb26",
       "version_major": 2,
       "version_minor": 0
      },
      "text/plain": [
       "interactive(children=(Dropdown(description='Choose the NHL Season year (2016 -> 2016-2017) : ', layout=Layout(…"
      ]
     },
     "metadata": {},
     "output_type": "display_data"
    },
    {
     "data": {
      "text/plain": [
       "<function __main__.display_game_stat(season_year: str, type_of_game: Literal[2, 3], game_id: int, index_play: int, SVG_FILE_PATH: str)>"
      ]
     },
     "execution_count": 12,
     "metadata": {},
     "output_type": "execute_result"
    }
   ],
   "source": [
    "def get_max_game_id(season, game_type):\n",
    "    return len(extract_gamestat_regular_or_playoff(season, game_type)) - 1\n",
    "\n",
    "def get_max_play_id(season, game_type, game_id):\n",
    "    data = extract_game_stat_per_games(\n",
    "        data_generator=extract_gamestat_regular_or_playoff(season, game_type),\n",
    "        game_id=game_id\n",
    "    )\n",
    "    return len(data.liveData.plays.allPlays) - 1\n",
    "\n",
    "# Default values based on current widget settings\n",
    "default_max_game_id = get_max_game_id(YEARS[0], 2)\n",
    "default_max_play_id = get_max_play_id(YEARS[0], 2, 0)\n",
    "\n",
    "season_selected_widget = widgets.Dropdown(\n",
    "    options=YEARS,\n",
    "    value=YEARS[0] if YEARS else None,  # Set to latest season. If YEARS is empty, set to None.\n",
    "    description=\"Choose the NHL Season year (2016 -> 2016-2017) : \",\n",
    "    layout={\"width\": \"max-content\"},\n",
    ")\n",
    "\n",
    "type_game_selected_widget = widgets.ToggleButtons(\n",
    "    options=[2, 3],\n",
    "    value=2,  # Set to Regular season\n",
    "    description=\"Select type of game : \",\n",
    "    tooltips=[\"Regular season\", \"Playoffs\"],\n",
    "    layout={\"width\": \"max-content\"},\n",
    ")\n",
    "\n",
    "game_id_widget = widgets.IntSlider(\n",
    "    value=0,  # First game\n",
    "    min=0,\n",
    "    max=default_max_game_id,  # Correct max value based on season and game type\n",
    "    step=1,\n",
    "    description=\"Game ID:\",\n",
    "    continuous_update=False,\n",
    "    orientation=\"horizontal\",\n",
    "    readout_format=\"d\",\n",
    ")\n",
    "\n",
    "play_id_widget = widgets.IntSlider(\n",
    "    value=0,  # First play\n",
    "    min=0,\n",
    "    max=default_max_play_id,  # Correct max value based on season, game type, and game id\n",
    "    step=1,\n",
    "    description=\"Play ID:\",\n",
    "    continuous_update=False,\n",
    "    orientation=\"horizontal\",\n",
    "    readout_format=\"d\",\n",
    ")\n",
    "\n",
    "SVG_FILE_PATH = \"./hocker_court.jpg\"\n",
    "\n",
    "def update_game_id_widget_max(*args):\n",
    "    game_id_widget.value = 0\n",
    "    play_id_widget.value = 0\n",
    "    game_id_widget.max = len(\n",
    "        extract_gamestat_regular_or_playoff(\n",
    "            season_selected_widget.value, type_game_selected_widget.value\n",
    "        )\n",
    "    ) - 1\n",
    "\n",
    "def update_on_season_change(*args):\n",
    "    game_id_widget.value = 0\n",
    "    play_id_widget.value = 0\n",
    "    update_game_id_widget_max()\n",
    "    update_play_id_widget_max()\n",
    "\n",
    "\n",
    "def update_play_id_widget_max(*args):\n",
    "    play_id_widget.value = 0\n",
    "    play_id_widget.max = len(\n",
    "        extract_game_stat_per_games(\n",
    "                data_generator=extract_gamestat_regular_or_playoff(\n",
    "                    season_year=season_selected_widget.value,\n",
    "                    type_of_game=type_game_selected_widget.value,\n",
    "                ),\n",
    "                game_id=game_id_widget.value,\n",
    "            ).liveData.plays.allPlays\n",
    "        ) - 1\n",
    "\n",
    "# Observers\n",
    "season_selected_widget.observe(update_on_season_change, \"value\")\n",
    "type_game_selected_widget.observe(update_game_id_widget_max, \"value\")\n",
    "type_game_selected_widget.observe(update_play_id_widget_max, \"value\")\n",
    "game_id_widget.observe(update_play_id_widget_max, \"value\")\n",
    "\n",
    "interact(\n",
    "    display_game_stat,\n",
    "    season_year=season_selected_widget,\n",
    "    type_of_game=type_game_selected_widget,\n",
    "    game_id=game_id_widget,\n",
    "    index_play=play_id_widget,\n",
    "    SVG_FILE_PATH=fixed(SVG_FILE_PATH),\n",
    ")"
   ]
  }
 ],
 "metadata": {
  "kernelspec": {
   "display_name": "venv",
   "language": "python",
   "name": "python3"
  },
  "language_info": {
   "codemirror_mode": {
    "name": "ipython",
    "version": 3
   },
   "file_extension": ".py",
   "mimetype": "text/x-python",
   "name": "python",
   "nbconvert_exporter": "python",
   "pygments_lexer": "ipython3",
   "version": "3.11.5"
  },
  "orig_nbformat": 4
 },
 "nbformat": 4,
 "nbformat_minor": 2
}
