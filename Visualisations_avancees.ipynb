{
 "cells": [
  {
   "cell_type": "code",
   "execution_count": 46,
   "metadata": {},
   "outputs": [],
   "source": [
    "import pandas as pd\n",
    "import numpy as np\n",
    "import seaborn as sns\n",
    "import matplotlib.pyplot as plt\n",
    "\n",
    "from ipywidgets import interact, interactive, fixed, interact_manual\n",
    "import ipywidgets as widgets\n",
    "\n",
    "from tqdm.notebook import tqdm"
   ]
  },
  {
   "cell_type": "code",
   "execution_count": 47,
   "metadata": {},
   "outputs": [
    {
     "name": "stdout",
     "output_type": "stream",
     "text": [
      "Index(['gameId', 'season', 'gameType', 'gameDate', 'homeTeam', 'awayTeam',\n",
      "       'rinkSide', 'period', 'periodTime', 'byTeam', 'eventType', 'shotType',\n",
      "       'coordinateX', 'coordinateY', 'shooterName', 'goalieName', 'strength',\n",
      "       'emptyNet'],\n",
      "      dtype='object')\n",
      "\n",
      "(387829, 18)\n",
      "\n",
      "gameId           int64\n",
      "season           int64\n",
      "gameType        object\n",
      "gameDate        object\n",
      "homeTeam        object\n",
      "awayTeam        object\n",
      "rinkSide        object\n",
      "period           int64\n",
      "periodTime      object\n",
      "byTeam          object\n",
      "eventType       object\n",
      "shotType        object\n",
      "coordinateX    float64\n",
      "coordinateY    float64\n",
      "shooterName     object\n",
      "goalieName      object\n",
      "strength          bool\n",
      "emptyNet          bool\n",
      "dtype: object\n"
     ]
    },
    {
     "data": {
      "text/html": [
       "<div>\n",
       "<style scoped>\n",
       "    .dataframe tbody tr th:only-of-type {\n",
       "        vertical-align: middle;\n",
       "    }\n",
       "\n",
       "    .dataframe tbody tr th {\n",
       "        vertical-align: top;\n",
       "    }\n",
       "\n",
       "    .dataframe thead th {\n",
       "        text-align: right;\n",
       "    }\n",
       "</style>\n",
       "<table border=\"1\" class=\"dataframe\">\n",
       "  <thead>\n",
       "    <tr style=\"text-align: right;\">\n",
       "      <th></th>\n",
       "      <th>gameId</th>\n",
       "      <th>season</th>\n",
       "      <th>gameType</th>\n",
       "      <th>gameDate</th>\n",
       "      <th>homeTeam</th>\n",
       "      <th>awayTeam</th>\n",
       "      <th>rinkSide</th>\n",
       "      <th>period</th>\n",
       "      <th>periodTime</th>\n",
       "      <th>byTeam</th>\n",
       "      <th>eventType</th>\n",
       "      <th>shotType</th>\n",
       "      <th>coordinateX</th>\n",
       "      <th>coordinateY</th>\n",
       "      <th>shooterName</th>\n",
       "      <th>goalieName</th>\n",
       "      <th>strength</th>\n",
       "      <th>emptyNet</th>\n",
       "    </tr>\n",
       "  </thead>\n",
       "  <tbody>\n",
       "    <tr>\n",
       "      <th>0</th>\n",
       "      <td>2016020001</td>\n",
       "      <td>2016</td>\n",
       "      <td>R</td>\n",
       "      <td>2016-10-12</td>\n",
       "      <td>OTT</td>\n",
       "      <td>TOR</td>\n",
       "      <td>right</td>\n",
       "      <td>1</td>\n",
       "      <td>01:11</td>\n",
       "      <td>TOR</td>\n",
       "      <td>SHOT</td>\n",
       "      <td>Wrist Shot</td>\n",
       "      <td>-77.0</td>\n",
       "      <td>5.0</td>\n",
       "      <td>Mitchell Marner</td>\n",
       "      <td>Craig Anderson</td>\n",
       "      <td>False</td>\n",
       "      <td>False</td>\n",
       "    </tr>\n",
       "    <tr>\n",
       "      <th>1</th>\n",
       "      <td>2016020001</td>\n",
       "      <td>2016</td>\n",
       "      <td>R</td>\n",
       "      <td>2016-10-12</td>\n",
       "      <td>OTT</td>\n",
       "      <td>TOR</td>\n",
       "      <td>left</td>\n",
       "      <td>1</td>\n",
       "      <td>02:53</td>\n",
       "      <td>OTT</td>\n",
       "      <td>SHOT</td>\n",
       "      <td>Wrist Shot</td>\n",
       "      <td>86.0</td>\n",
       "      <td>13.0</td>\n",
       "      <td>Chris Kelly</td>\n",
       "      <td>Frederik Andersen</td>\n",
       "      <td>False</td>\n",
       "      <td>False</td>\n",
       "    </tr>\n",
       "    <tr>\n",
       "      <th>2</th>\n",
       "      <td>2016020001</td>\n",
       "      <td>2016</td>\n",
       "      <td>R</td>\n",
       "      <td>2016-10-12</td>\n",
       "      <td>OTT</td>\n",
       "      <td>TOR</td>\n",
       "      <td>left</td>\n",
       "      <td>1</td>\n",
       "      <td>04:01</td>\n",
       "      <td>OTT</td>\n",
       "      <td>SHOT</td>\n",
       "      <td>Wrist Shot</td>\n",
       "      <td>23.0</td>\n",
       "      <td>-38.0</td>\n",
       "      <td>Cody Ceci</td>\n",
       "      <td>Frederik Andersen</td>\n",
       "      <td>False</td>\n",
       "      <td>False</td>\n",
       "    </tr>\n",
       "    <tr>\n",
       "      <th>3</th>\n",
       "      <td>2016020001</td>\n",
       "      <td>2016</td>\n",
       "      <td>R</td>\n",
       "      <td>2016-10-12</td>\n",
       "      <td>OTT</td>\n",
       "      <td>TOR</td>\n",
       "      <td>left</td>\n",
       "      <td>1</td>\n",
       "      <td>04:46</td>\n",
       "      <td>OTT</td>\n",
       "      <td>SHOT</td>\n",
       "      <td>Slap Shot</td>\n",
       "      <td>33.0</td>\n",
       "      <td>-15.0</td>\n",
       "      <td>Erik Karlsson</td>\n",
       "      <td>Frederik Andersen</td>\n",
       "      <td>False</td>\n",
       "      <td>False</td>\n",
       "    </tr>\n",
       "    <tr>\n",
       "      <th>4</th>\n",
       "      <td>2016020001</td>\n",
       "      <td>2016</td>\n",
       "      <td>R</td>\n",
       "      <td>2016-10-12</td>\n",
       "      <td>OTT</td>\n",
       "      <td>TOR</td>\n",
       "      <td>right</td>\n",
       "      <td>1</td>\n",
       "      <td>06:46</td>\n",
       "      <td>TOR</td>\n",
       "      <td>SHOT</td>\n",
       "      <td>Wrist Shot</td>\n",
       "      <td>-34.0</td>\n",
       "      <td>28.0</td>\n",
       "      <td>Martin Marincin</td>\n",
       "      <td>Craig Anderson</td>\n",
       "      <td>False</td>\n",
       "      <td>False</td>\n",
       "    </tr>\n",
       "  </tbody>\n",
       "</table>\n",
       "</div>"
      ],
      "text/plain": [
       "       gameId  season gameType    gameDate homeTeam awayTeam rinkSide  period  \\\n",
       "0  2016020001    2016        R  2016-10-12      OTT      TOR    right       1   \n",
       "1  2016020001    2016        R  2016-10-12      OTT      TOR     left       1   \n",
       "2  2016020001    2016        R  2016-10-12      OTT      TOR     left       1   \n",
       "3  2016020001    2016        R  2016-10-12      OTT      TOR     left       1   \n",
       "4  2016020001    2016        R  2016-10-12      OTT      TOR    right       1   \n",
       "\n",
       "  periodTime byTeam eventType    shotType  coordinateX  coordinateY  \\\n",
       "0      01:11    TOR      SHOT  Wrist Shot        -77.0          5.0   \n",
       "1      02:53    OTT      SHOT  Wrist Shot         86.0         13.0   \n",
       "2      04:01    OTT      SHOT  Wrist Shot         23.0        -38.0   \n",
       "3      04:46    OTT      SHOT   Slap Shot         33.0        -15.0   \n",
       "4      06:46    TOR      SHOT  Wrist Shot        -34.0         28.0   \n",
       "\n",
       "       shooterName         goalieName  strength  emptyNet  \n",
       "0  Mitchell Marner     Craig Anderson     False     False  \n",
       "1      Chris Kelly  Frederik Andersen     False     False  \n",
       "2        Cody Ceci  Frederik Andersen     False     False  \n",
       "3    Erik Karlsson  Frederik Andersen     False     False  \n",
       "4  Martin Marincin     Craig Anderson     False     False  "
      ]
     },
     "execution_count": 47,
     "metadata": {},
     "output_type": "execute_result"
    }
   ],
   "source": [
    "data = pd.read_csv(\"clean_data.csv\")\n",
    "print(data.columns,data.shape,data.dtypes,sep=\"\\n\\n\")\n",
    "data.head()"
   ]
  },
  {
   "cell_type": "code",
   "execution_count": 48,
   "metadata": {},
   "outputs": [
    {
     "name": "stdout",
     "output_type": "stream",
     "text": [
      "shotType : \n",
      "['Wrist Shot' 'Slap Shot' 'Backhand' 'Snap Shot' 'Tip-In' 'Deflected'\n",
      " 'Wrap-around' nan]\n",
      "eventType : \n",
      "['SHOT' 'GOAL']\n"
     ]
    }
   ],
   "source": [
    "print('shotType : ', data['shotType'].unique(), 'eventType : ', data['eventType'].unique(), sep='\\n')"
   ]
  },
  {
   "cell_type": "code",
   "execution_count": 49,
   "metadata": {},
   "outputs": [],
   "source": [
    "seed = 42\n",
    "NHL_TEAMS = data['homeTeam'].unique()\n",
    "SEASONS= data['season'].unique()"
   ]
  },
  {
   "cell_type": "code",
   "execution_count": 50,
   "metadata": {},
   "outputs": [
    {
     "data": {
      "text/html": [
       "<div>\n",
       "<style scoped>\n",
       "    .dataframe tbody tr th:only-of-type {\n",
       "        vertical-align: middle;\n",
       "    }\n",
       "\n",
       "    .dataframe tbody tr th {\n",
       "        vertical-align: top;\n",
       "    }\n",
       "\n",
       "    .dataframe thead th {\n",
       "        text-align: right;\n",
       "    }\n",
       "</style>\n",
       "<table border=\"1\" class=\"dataframe\">\n",
       "  <thead>\n",
       "    <tr style=\"text-align: right;\">\n",
       "      <th></th>\n",
       "      <th>gameId</th>\n",
       "      <th>byTeam</th>\n",
       "      <th>homeTeam</th>\n",
       "      <th>awayTeam</th>\n",
       "      <th>period</th>\n",
       "      <th>coordinateX</th>\n",
       "      <th>coordinateY</th>\n",
       "      <th>season</th>\n",
       "      <th>is_homeTeam</th>\n",
       "    </tr>\n",
       "  </thead>\n",
       "  <tbody>\n",
       "    <tr>\n",
       "      <th>742</th>\n",
       "      <td>2016020013</td>\n",
       "      <td>ANA</td>\n",
       "      <td>DAL</td>\n",
       "      <td>ANA</td>\n",
       "      <td>1</td>\n",
       "      <td>76.0</td>\n",
       "      <td>-16.0</td>\n",
       "      <td>2016</td>\n",
       "      <td>False</td>\n",
       "    </tr>\n",
       "    <tr>\n",
       "      <th>743</th>\n",
       "      <td>2016020013</td>\n",
       "      <td>ANA</td>\n",
       "      <td>DAL</td>\n",
       "      <td>ANA</td>\n",
       "      <td>1</td>\n",
       "      <td>2.0</td>\n",
       "      <td>-31.0</td>\n",
       "      <td>2016</td>\n",
       "      <td>False</td>\n",
       "    </tr>\n",
       "    <tr>\n",
       "      <th>745</th>\n",
       "      <td>2016020013</td>\n",
       "      <td>ANA</td>\n",
       "      <td>DAL</td>\n",
       "      <td>ANA</td>\n",
       "      <td>1</td>\n",
       "      <td>67.0</td>\n",
       "      <td>28.0</td>\n",
       "      <td>2016</td>\n",
       "      <td>False</td>\n",
       "    </tr>\n",
       "    <tr>\n",
       "      <th>746</th>\n",
       "      <td>2016020013</td>\n",
       "      <td>ANA</td>\n",
       "      <td>DAL</td>\n",
       "      <td>ANA</td>\n",
       "      <td>1</td>\n",
       "      <td>57.0</td>\n",
       "      <td>20.0</td>\n",
       "      <td>2016</td>\n",
       "      <td>False</td>\n",
       "    </tr>\n",
       "    <tr>\n",
       "      <th>747</th>\n",
       "      <td>2016020013</td>\n",
       "      <td>ANA</td>\n",
       "      <td>DAL</td>\n",
       "      <td>ANA</td>\n",
       "      <td>1</td>\n",
       "      <td>39.0</td>\n",
       "      <td>24.0</td>\n",
       "      <td>2016</td>\n",
       "      <td>False</td>\n",
       "    </tr>\n",
       "    <tr>\n",
       "      <th>...</th>\n",
       "      <td>...</td>\n",
       "      <td>...</td>\n",
       "      <td>...</td>\n",
       "      <td>...</td>\n",
       "      <td>...</td>\n",
       "      <td>...</td>\n",
       "      <td>...</td>\n",
       "      <td>...</td>\n",
       "      <td>...</td>\n",
       "    </tr>\n",
       "    <tr>\n",
       "      <th>382318</th>\n",
       "      <td>2020020865</td>\n",
       "      <td>ANA</td>\n",
       "      <td>MIN</td>\n",
       "      <td>ANA</td>\n",
       "      <td>3</td>\n",
       "      <td>46.0</td>\n",
       "      <td>24.0</td>\n",
       "      <td>2020</td>\n",
       "      <td>False</td>\n",
       "    </tr>\n",
       "    <tr>\n",
       "      <th>382319</th>\n",
       "      <td>2020020865</td>\n",
       "      <td>ANA</td>\n",
       "      <td>MIN</td>\n",
       "      <td>ANA</td>\n",
       "      <td>3</td>\n",
       "      <td>83.0</td>\n",
       "      <td>-3.0</td>\n",
       "      <td>2020</td>\n",
       "      <td>False</td>\n",
       "    </tr>\n",
       "    <tr>\n",
       "      <th>382320</th>\n",
       "      <td>2020020865</td>\n",
       "      <td>ANA</td>\n",
       "      <td>MIN</td>\n",
       "      <td>ANA</td>\n",
       "      <td>3</td>\n",
       "      <td>65.0</td>\n",
       "      <td>20.0</td>\n",
       "      <td>2020</td>\n",
       "      <td>False</td>\n",
       "    </tr>\n",
       "    <tr>\n",
       "      <th>382322</th>\n",
       "      <td>2020020865</td>\n",
       "      <td>ANA</td>\n",
       "      <td>MIN</td>\n",
       "      <td>ANA</td>\n",
       "      <td>4</td>\n",
       "      <td>-39.0</td>\n",
       "      <td>7.0</td>\n",
       "      <td>2020</td>\n",
       "      <td>False</td>\n",
       "    </tr>\n",
       "    <tr>\n",
       "      <th>382323</th>\n",
       "      <td>2020020865</td>\n",
       "      <td>ANA</td>\n",
       "      <td>MIN</td>\n",
       "      <td>ANA</td>\n",
       "      <td>4</td>\n",
       "      <td>-85.0</td>\n",
       "      <td>20.0</td>\n",
       "      <td>2020</td>\n",
       "      <td>False</td>\n",
       "    </tr>\n",
       "  </tbody>\n",
       "</table>\n",
       "<p>11614 rows × 9 columns</p>\n",
       "</div>"
      ],
      "text/plain": [
       "            gameId byTeam homeTeam awayTeam  period  coordinateX  coordinateY  \\\n",
       "742     2016020013    ANA      DAL      ANA       1         76.0        -16.0   \n",
       "743     2016020013    ANA      DAL      ANA       1          2.0        -31.0   \n",
       "745     2016020013    ANA      DAL      ANA       1         67.0         28.0   \n",
       "746     2016020013    ANA      DAL      ANA       1         57.0         20.0   \n",
       "747     2016020013    ANA      DAL      ANA       1         39.0         24.0   \n",
       "...            ...    ...      ...      ...     ...          ...          ...   \n",
       "382318  2020020865    ANA      MIN      ANA       3         46.0         24.0   \n",
       "382319  2020020865    ANA      MIN      ANA       3         83.0         -3.0   \n",
       "382320  2020020865    ANA      MIN      ANA       3         65.0         20.0   \n",
       "382322  2020020865    ANA      MIN      ANA       4        -39.0          7.0   \n",
       "382323  2020020865    ANA      MIN      ANA       4        -85.0         20.0   \n",
       "\n",
       "        season  is_homeTeam  \n",
       "742       2016        False  \n",
       "743       2016        False  \n",
       "745       2016        False  \n",
       "746       2016        False  \n",
       "747       2016        False  \n",
       "...        ...          ...  \n",
       "382318    2020        False  \n",
       "382319    2020        False  \n",
       "382320    2020        False  \n",
       "382322    2020        False  \n",
       "382323    2020        False  \n",
       "\n",
       "[11614 rows x 9 columns]"
      ]
     },
     "execution_count": 50,
     "metadata": {},
     "output_type": "execute_result"
    }
   ],
   "source": [
    "df = data[['gameId','byTeam','homeTeam','awayTeam','period','coordinateX','coordinateY','season']]\n",
    "df = df[df['byTeam'] == 'ANA']\n",
    "df['is_homeTeam'] = df['homeTeam']=='ANA'\n",
    "df"
   ]
  },
  {
   "cell_type": "code",
   "execution_count": 52,
   "metadata": {},
   "outputs": [],
   "source": [
    "from utils import unify_coordinates_referential\n",
    "\n",
    "data_coords_unified = unify_coordinates_referential(data)"
   ]
  },
  {
   "cell_type": "markdown",
   "metadata": {},
   "source": [
    "# Preparation des coordonnees pour une saison et un equipe (dans le meme referentiel)"
   ]
  },
  {
   "cell_type": "code",
   "execution_count": 51,
   "metadata": {},
   "outputs": [
    {
     "data": {
      "application/vnd.jupyter.widget-view+json": {
       "model_id": "81266bbc9945472ebc6cddea8c0866e4",
       "version_major": 2,
       "version_minor": 0
      },
      "text/plain": [
       "interactive(children=(Dropdown(description='NHL_TEAM:', options=('OTT', 'CHI', 'EDM', 'SJS', 'BUF', 'NYR', 'PI…"
      ]
     },
     "metadata": {},
     "output_type": "display_data"
    },
    {
     "data": {
      "text/plain": [
       "<function __main__.get_plays_of_team_of_season(NHL_TEAM, SEASON, verbose=True)>"
      ]
     },
     "execution_count": 51,
     "metadata": {},
     "output_type": "execute_result"
    }
   ],
   "source": [
    "def get_plays_of_team_of_season(NHL_TEAM,SEASON,verbose=True):\n",
    "    df_plays_ofa_team = data[(data['homeTeam']==NHL_TEAM )| (data['awayTeam']==NHL_TEAM)] # On récupère les plays ou l'équipe NHL_TEAM est impliquée\n",
    "\n",
    "    df_plays_ofa_team_ofa_season = df_plays_ofa_team[df_plays_ofa_team['season']==SEASON] # On récupère les plays de la saison SEASON\n",
    "\n",
    "    df_plays_ofa_team_ofa_season = df_plays_ofa_team_ofa_season[['period','shotType', 'eventType', 'coordinateX', 'coordinateY' ]]\n",
    "    \n",
    "    if verbose:\n",
    "        print(f\"Nombre de plays ou l'equipe {NHL_TEAM} est impliquee : {df_plays_ofa_team.shape}\")\n",
    "        print(f\"Nombre de plays ou l'equipe {NHL_TEAM} est impliquee pour la saison {SEASON} : {df_plays_ofa_team_ofa_season.shape}\")\n",
    "        print(f'''Nombre de plays sans coordonnees : \n",
    "            {df_plays_ofa_team_ofa_season[df_plays_ofa_team_ofa_season[\"coordinateX\"].isna()].shape} \n",
    "            {df_plays_ofa_team_ofa_season[df_plays_ofa_team_ofa_season[\"coordinateX\"].isna()]}\n",
    "        ''')\n",
    "\n",
    "    return df_plays_ofa_team_ofa_season\n",
    "\n",
    "interact(\n",
    "    get_plays_of_team_of_season, \n",
    "    NHL_TEAM=widgets.Dropdown(\n",
    "        options=NHL_TEAMS,\n",
    "        value=NHL_TEAMS[0],\n",
    "        description='NHL_TEAM:',\n",
    "        disabled=False,\n",
    "    ),\n",
    "    SEASON=widgets.RadioButtons(\n",
    "        options=SEASONS,\n",
    "        value=SEASONS[0],\n",
    "        description='SEASON:',\n",
    "        disabled=False\n",
    "    ),\n",
    "    verbose=fixed(True)\n",
    ")"
   ]
  },
  {
   "cell_type": "code",
   "execution_count": 22,
   "metadata": {},
   "outputs": [],
   "source": [
    "def count_na_coordinates_per_team_per_season():    \n",
    "    d = {}\n",
    "    for team in tqdm(NHL_TEAMS, desc='Counting NA coordinates for each play per team per season'):\n",
    "        nb = []\n",
    "        for season in SEASONS:\n",
    "            dd = get_plays_of_team_of_season(team,season,False)\n",
    "            nb.append(dd[dd[\"coordinateX\"].isna()].shape[0])\n",
    "\n",
    "        d.update(\n",
    "            {team : pd.Series(nb, index=SEASONS)}\n",
    "        )\n",
    "\n",
    "    return pd.DataFrame(d,index=SEASONS)"
   ]
  },
  {
   "cell_type": "code",
   "execution_count": 23,
   "metadata": {},
   "outputs": [
    {
     "data": {
      "application/vnd.jupyter.widget-view+json": {
       "model_id": "a5fbc34f66714ae4a588abc8cd241815",
       "version_major": 2,
       "version_minor": 0
      },
      "text/plain": [
       "Counting NA coordinates for each play per team per season:   0%|          | 0/31 [00:00<?, ?it/s]"
      ]
     },
     "metadata": {},
     "output_type": "display_data"
    },
    {
     "data": {
      "application/vnd.plotly.v1+json": {
       "config": {
        "plotlyServerURL": "https://plot.ly"
       },
       "data": [
        {
         "type": "heatmap",
         "x": [
          "LAK",
          "MIN",
          "VAN",
          "EDM",
          "WPG",
          "PHI",
          "FLA",
          "CBJ",
          "TOR",
          "CGY",
          "CHI",
          "SJS",
          "WSH",
          "OTT",
          "CAR",
          "VGK",
          "NYI",
          "BOS",
          "STL",
          "ARI",
          "DAL",
          "ANA",
          "NYR",
          "COL",
          "PIT",
          "NSH",
          "MTL",
          "TBL",
          "NJD",
          "DET",
          "BUF"
         ],
         "y": [
          2020,
          2019,
          2017,
          2018,
          2016
         ],
         "z": [
          [
           0,
           0,
           0,
           0,
           0,
           0,
           0,
           0,
           0,
           0,
           0,
           0,
           0,
           0,
           0,
           0,
           0,
           0,
           0,
           0,
           0,
           0,
           0,
           0,
           0,
           0,
           0,
           0,
           0,
           0,
           0
          ],
          [
           0,
           0,
           0,
           0,
           0,
           1,
           0,
           0,
           0,
           1,
           0,
           0,
           0,
           0,
           0,
           0,
           0,
           0,
           0,
           0,
           0,
           0,
           0,
           0,
           0,
           0,
           0,
           0,
           0,
           0,
           0
          ],
          [
           0,
           0,
           0,
           2,
           0,
           0,
           0,
           0,
           1,
           0,
           0,
           0,
           0,
           5,
           0,
           1,
           1,
           0,
           0,
           0,
           0,
           0,
           0,
           0,
           0,
           0,
           0,
           5,
           1,
           0,
           0
          ],
          [
           0,
           0,
           1,
           0,
           0,
           0,
           0,
           0,
           0,
           0,
           0,
           0,
           2,
           0,
           0,
           0,
           1,
           0,
           0,
           0,
           1,
           0,
           0,
           0,
           0,
           0,
           0,
           0,
           1,
           0,
           0
          ],
          [
           0,
           1,
           0,
           2,
           1,
           0,
           0,
           0,
           0,
           0,
           1,
           0,
           0,
           0,
           0,
           0,
           0,
           0,
           0,
           0,
           1,
           0,
           0,
           0,
           1,
           0,
           0,
           0,
           0,
           0,
           1
          ]
         ]
        }
       ],
       "layout": {
        "template": {
         "data": {
          "bar": [
           {
            "error_x": {
             "color": "#2a3f5f"
            },
            "error_y": {
             "color": "#2a3f5f"
            },
            "marker": {
             "line": {
              "color": "#E5ECF6",
              "width": 0.5
             },
             "pattern": {
              "fillmode": "overlay",
              "size": 10,
              "solidity": 0.2
             }
            },
            "type": "bar"
           }
          ],
          "barpolar": [
           {
            "marker": {
             "line": {
              "color": "#E5ECF6",
              "width": 0.5
             },
             "pattern": {
              "fillmode": "overlay",
              "size": 10,
              "solidity": 0.2
             }
            },
            "type": "barpolar"
           }
          ],
          "carpet": [
           {
            "aaxis": {
             "endlinecolor": "#2a3f5f",
             "gridcolor": "white",
             "linecolor": "white",
             "minorgridcolor": "white",
             "startlinecolor": "#2a3f5f"
            },
            "baxis": {
             "endlinecolor": "#2a3f5f",
             "gridcolor": "white",
             "linecolor": "white",
             "minorgridcolor": "white",
             "startlinecolor": "#2a3f5f"
            },
            "type": "carpet"
           }
          ],
          "choropleth": [
           {
            "colorbar": {
             "outlinewidth": 0,
             "ticks": ""
            },
            "type": "choropleth"
           }
          ],
          "contour": [
           {
            "colorbar": {
             "outlinewidth": 0,
             "ticks": ""
            },
            "colorscale": [
             [
              0,
              "#0d0887"
             ],
             [
              0.1111111111111111,
              "#46039f"
             ],
             [
              0.2222222222222222,
              "#7201a8"
             ],
             [
              0.3333333333333333,
              "#9c179e"
             ],
             [
              0.4444444444444444,
              "#bd3786"
             ],
             [
              0.5555555555555556,
              "#d8576b"
             ],
             [
              0.6666666666666666,
              "#ed7953"
             ],
             [
              0.7777777777777778,
              "#fb9f3a"
             ],
             [
              0.8888888888888888,
              "#fdca26"
             ],
             [
              1,
              "#f0f921"
             ]
            ],
            "type": "contour"
           }
          ],
          "contourcarpet": [
           {
            "colorbar": {
             "outlinewidth": 0,
             "ticks": ""
            },
            "type": "contourcarpet"
           }
          ],
          "heatmap": [
           {
            "colorbar": {
             "outlinewidth": 0,
             "ticks": ""
            },
            "colorscale": [
             [
              0,
              "#0d0887"
             ],
             [
              0.1111111111111111,
              "#46039f"
             ],
             [
              0.2222222222222222,
              "#7201a8"
             ],
             [
              0.3333333333333333,
              "#9c179e"
             ],
             [
              0.4444444444444444,
              "#bd3786"
             ],
             [
              0.5555555555555556,
              "#d8576b"
             ],
             [
              0.6666666666666666,
              "#ed7953"
             ],
             [
              0.7777777777777778,
              "#fb9f3a"
             ],
             [
              0.8888888888888888,
              "#fdca26"
             ],
             [
              1,
              "#f0f921"
             ]
            ],
            "type": "heatmap"
           }
          ],
          "heatmapgl": [
           {
            "colorbar": {
             "outlinewidth": 0,
             "ticks": ""
            },
            "colorscale": [
             [
              0,
              "#0d0887"
             ],
             [
              0.1111111111111111,
              "#46039f"
             ],
             [
              0.2222222222222222,
              "#7201a8"
             ],
             [
              0.3333333333333333,
              "#9c179e"
             ],
             [
              0.4444444444444444,
              "#bd3786"
             ],
             [
              0.5555555555555556,
              "#d8576b"
             ],
             [
              0.6666666666666666,
              "#ed7953"
             ],
             [
              0.7777777777777778,
              "#fb9f3a"
             ],
             [
              0.8888888888888888,
              "#fdca26"
             ],
             [
              1,
              "#f0f921"
             ]
            ],
            "type": "heatmapgl"
           }
          ],
          "histogram": [
           {
            "marker": {
             "pattern": {
              "fillmode": "overlay",
              "size": 10,
              "solidity": 0.2
             }
            },
            "type": "histogram"
           }
          ],
          "histogram2d": [
           {
            "colorbar": {
             "outlinewidth": 0,
             "ticks": ""
            },
            "colorscale": [
             [
              0,
              "#0d0887"
             ],
             [
              0.1111111111111111,
              "#46039f"
             ],
             [
              0.2222222222222222,
              "#7201a8"
             ],
             [
              0.3333333333333333,
              "#9c179e"
             ],
             [
              0.4444444444444444,
              "#bd3786"
             ],
             [
              0.5555555555555556,
              "#d8576b"
             ],
             [
              0.6666666666666666,
              "#ed7953"
             ],
             [
              0.7777777777777778,
              "#fb9f3a"
             ],
             [
              0.8888888888888888,
              "#fdca26"
             ],
             [
              1,
              "#f0f921"
             ]
            ],
            "type": "histogram2d"
           }
          ],
          "histogram2dcontour": [
           {
            "colorbar": {
             "outlinewidth": 0,
             "ticks": ""
            },
            "colorscale": [
             [
              0,
              "#0d0887"
             ],
             [
              0.1111111111111111,
              "#46039f"
             ],
             [
              0.2222222222222222,
              "#7201a8"
             ],
             [
              0.3333333333333333,
              "#9c179e"
             ],
             [
              0.4444444444444444,
              "#bd3786"
             ],
             [
              0.5555555555555556,
              "#d8576b"
             ],
             [
              0.6666666666666666,
              "#ed7953"
             ],
             [
              0.7777777777777778,
              "#fb9f3a"
             ],
             [
              0.8888888888888888,
              "#fdca26"
             ],
             [
              1,
              "#f0f921"
             ]
            ],
            "type": "histogram2dcontour"
           }
          ],
          "mesh3d": [
           {
            "colorbar": {
             "outlinewidth": 0,
             "ticks": ""
            },
            "type": "mesh3d"
           }
          ],
          "parcoords": [
           {
            "line": {
             "colorbar": {
              "outlinewidth": 0,
              "ticks": ""
             }
            },
            "type": "parcoords"
           }
          ],
          "pie": [
           {
            "automargin": true,
            "type": "pie"
           }
          ],
          "scatter": [
           {
            "fillpattern": {
             "fillmode": "overlay",
             "size": 10,
             "solidity": 0.2
            },
            "type": "scatter"
           }
          ],
          "scatter3d": [
           {
            "line": {
             "colorbar": {
              "outlinewidth": 0,
              "ticks": ""
             }
            },
            "marker": {
             "colorbar": {
              "outlinewidth": 0,
              "ticks": ""
             }
            },
            "type": "scatter3d"
           }
          ],
          "scattercarpet": [
           {
            "marker": {
             "colorbar": {
              "outlinewidth": 0,
              "ticks": ""
             }
            },
            "type": "scattercarpet"
           }
          ],
          "scattergeo": [
           {
            "marker": {
             "colorbar": {
              "outlinewidth": 0,
              "ticks": ""
             }
            },
            "type": "scattergeo"
           }
          ],
          "scattergl": [
           {
            "marker": {
             "colorbar": {
              "outlinewidth": 0,
              "ticks": ""
             }
            },
            "type": "scattergl"
           }
          ],
          "scattermapbox": [
           {
            "marker": {
             "colorbar": {
              "outlinewidth": 0,
              "ticks": ""
             }
            },
            "type": "scattermapbox"
           }
          ],
          "scatterpolar": [
           {
            "marker": {
             "colorbar": {
              "outlinewidth": 0,
              "ticks": ""
             }
            },
            "type": "scatterpolar"
           }
          ],
          "scatterpolargl": [
           {
            "marker": {
             "colorbar": {
              "outlinewidth": 0,
              "ticks": ""
             }
            },
            "type": "scatterpolargl"
           }
          ],
          "scatterternary": [
           {
            "marker": {
             "colorbar": {
              "outlinewidth": 0,
              "ticks": ""
             }
            },
            "type": "scatterternary"
           }
          ],
          "surface": [
           {
            "colorbar": {
             "outlinewidth": 0,
             "ticks": ""
            },
            "colorscale": [
             [
              0,
              "#0d0887"
             ],
             [
              0.1111111111111111,
              "#46039f"
             ],
             [
              0.2222222222222222,
              "#7201a8"
             ],
             [
              0.3333333333333333,
              "#9c179e"
             ],
             [
              0.4444444444444444,
              "#bd3786"
             ],
             [
              0.5555555555555556,
              "#d8576b"
             ],
             [
              0.6666666666666666,
              "#ed7953"
             ],
             [
              0.7777777777777778,
              "#fb9f3a"
             ],
             [
              0.8888888888888888,
              "#fdca26"
             ],
             [
              1,
              "#f0f921"
             ]
            ],
            "type": "surface"
           }
          ],
          "table": [
           {
            "cells": {
             "fill": {
              "color": "#EBF0F8"
             },
             "line": {
              "color": "white"
             }
            },
            "header": {
             "fill": {
              "color": "#C8D4E3"
             },
             "line": {
              "color": "white"
             }
            },
            "type": "table"
           }
          ]
         },
         "layout": {
          "annotationdefaults": {
           "arrowcolor": "#2a3f5f",
           "arrowhead": 0,
           "arrowwidth": 1
          },
          "autotypenumbers": "strict",
          "coloraxis": {
           "colorbar": {
            "outlinewidth": 0,
            "ticks": ""
           }
          },
          "colorscale": {
           "diverging": [
            [
             0,
             "#8e0152"
            ],
            [
             0.1,
             "#c51b7d"
            ],
            [
             0.2,
             "#de77ae"
            ],
            [
             0.3,
             "#f1b6da"
            ],
            [
             0.4,
             "#fde0ef"
            ],
            [
             0.5,
             "#f7f7f7"
            ],
            [
             0.6,
             "#e6f5d0"
            ],
            [
             0.7,
             "#b8e186"
            ],
            [
             0.8,
             "#7fbc41"
            ],
            [
             0.9,
             "#4d9221"
            ],
            [
             1,
             "#276419"
            ]
           ],
           "sequential": [
            [
             0,
             "#0d0887"
            ],
            [
             0.1111111111111111,
             "#46039f"
            ],
            [
             0.2222222222222222,
             "#7201a8"
            ],
            [
             0.3333333333333333,
             "#9c179e"
            ],
            [
             0.4444444444444444,
             "#bd3786"
            ],
            [
             0.5555555555555556,
             "#d8576b"
            ],
            [
             0.6666666666666666,
             "#ed7953"
            ],
            [
             0.7777777777777778,
             "#fb9f3a"
            ],
            [
             0.8888888888888888,
             "#fdca26"
            ],
            [
             1,
             "#f0f921"
            ]
           ],
           "sequentialminus": [
            [
             0,
             "#0d0887"
            ],
            [
             0.1111111111111111,
             "#46039f"
            ],
            [
             0.2222222222222222,
             "#7201a8"
            ],
            [
             0.3333333333333333,
             "#9c179e"
            ],
            [
             0.4444444444444444,
             "#bd3786"
            ],
            [
             0.5555555555555556,
             "#d8576b"
            ],
            [
             0.6666666666666666,
             "#ed7953"
            ],
            [
             0.7777777777777778,
             "#fb9f3a"
            ],
            [
             0.8888888888888888,
             "#fdca26"
            ],
            [
             1,
             "#f0f921"
            ]
           ]
          },
          "colorway": [
           "#636efa",
           "#EF553B",
           "#00cc96",
           "#ab63fa",
           "#FFA15A",
           "#19d3f3",
           "#FF6692",
           "#B6E880",
           "#FF97FF",
           "#FECB52"
          ],
          "font": {
           "color": "#2a3f5f"
          },
          "geo": {
           "bgcolor": "white",
           "lakecolor": "white",
           "landcolor": "#E5ECF6",
           "showlakes": true,
           "showland": true,
           "subunitcolor": "white"
          },
          "hoverlabel": {
           "align": "left"
          },
          "hovermode": "closest",
          "mapbox": {
           "style": "light"
          },
          "paper_bgcolor": "white",
          "plot_bgcolor": "#E5ECF6",
          "polar": {
           "angularaxis": {
            "gridcolor": "white",
            "linecolor": "white",
            "ticks": ""
           },
           "bgcolor": "#E5ECF6",
           "radialaxis": {
            "gridcolor": "white",
            "linecolor": "white",
            "ticks": ""
           }
          },
          "scene": {
           "xaxis": {
            "backgroundcolor": "#E5ECF6",
            "gridcolor": "white",
            "gridwidth": 2,
            "linecolor": "white",
            "showbackground": true,
            "ticks": "",
            "zerolinecolor": "white"
           },
           "yaxis": {
            "backgroundcolor": "#E5ECF6",
            "gridcolor": "white",
            "gridwidth": 2,
            "linecolor": "white",
            "showbackground": true,
            "ticks": "",
            "zerolinecolor": "white"
           },
           "zaxis": {
            "backgroundcolor": "#E5ECF6",
            "gridcolor": "white",
            "gridwidth": 2,
            "linecolor": "white",
            "showbackground": true,
            "ticks": "",
            "zerolinecolor": "white"
           }
          },
          "shapedefaults": {
           "line": {
            "color": "#2a3f5f"
           }
          },
          "ternary": {
           "aaxis": {
            "gridcolor": "white",
            "linecolor": "white",
            "ticks": ""
           },
           "baxis": {
            "gridcolor": "white",
            "linecolor": "white",
            "ticks": ""
           },
           "bgcolor": "#E5ECF6",
           "caxis": {
            "gridcolor": "white",
            "linecolor": "white",
            "ticks": ""
           }
          },
          "title": {
           "x": 0.05
          },
          "xaxis": {
           "automargin": true,
           "gridcolor": "white",
           "linecolor": "white",
           "ticks": "",
           "title": {
            "standoff": 15
           },
           "zerolinecolor": "white",
           "zerolinewidth": 2
          },
          "yaxis": {
           "automargin": true,
           "gridcolor": "white",
           "linecolor": "white",
           "ticks": "",
           "title": {
            "standoff": 15
           },
           "zerolinecolor": "white",
           "zerolinewidth": 2
          }
         }
        },
        "title": {
         "text": "Number of plays without coordinates per season and per team"
        },
        "xaxis": {
         "nticks": 36
        }
       }
      }
     },
     "metadata": {},
     "output_type": "display_data"
    }
   ],
   "source": [
    "import plotly.graph_objs as go\n",
    "\n",
    "def plot_na_ccordinates_per_team_per_season(\n",
    "\t\tcount_na_coordinates_per_team_per_season: pd.DataFrame\n",
    "   ) -> None:\n",
    "   \"\"\"\n",
    "   Using plotly library, plot in a matrix with heat map color\n",
    "   the number of plays without coordinates per season (row) and per team (columns) \n",
    "   \"\"\"\n",
    "   fig = go.Figure(data=go.Heatmap(\n",
    "\t\t\t\t   z=count_na_coordinates_per_team_per_season.values,\n",
    "\t\t\t\t   x=count_na_coordinates_per_team_per_season.columns,\n",
    "\t\t\t\t   y=count_na_coordinates_per_team_per_season.index,\n",
    "\t\t\t\t   ))\n",
    "   fig.update_layout(\n",
    "\t   title='Number of plays without coordinates per season and per team',\n",
    "\t   xaxis_nticks=36)\n",
    "   fig.show()\n",
    "\n",
    "plot_na_ccordinates_per_team_per_season(count_na_coordinates_per_team_per_season())"
   ]
  },
  {
   "cell_type": "code",
   "execution_count": 8,
   "metadata": {},
   "outputs": [
    {
     "name": "stdout",
     "output_type": "stream",
     "text": [
      "Nombre de plays ou l'equipe OTT est impliquee : (24898, 17)\n",
      "Nombre de plays ou l'equipe OTT est impliquee pour la saison 2017 : (5286, 5)\n",
      "Nombre de plays sans coordonnees : \n",
      "            (5, 5) \n",
      "                    period    shotType eventType  coordinateX  coordinateY\n",
      "207001       5  Wrist Shot      GOAL          NaN          NaN\n",
      "207002       5  Wrist Shot      SHOT          NaN          NaN\n",
      "207003       5    Backhand      SHOT          NaN          NaN\n",
      "207004       5  Wrist Shot      SHOT          NaN          NaN\n",
      "207005       5  Wrist Shot      GOAL          NaN          NaN\n",
      "        \n"
     ]
    },
    {
     "data": {
      "text/plain": [
       "(5281, 5)"
      ]
     },
     "execution_count": 8,
     "metadata": {},
     "output_type": "execute_result"
    }
   ],
   "source": [
    "df = get_plays_of_team_of_season('OTT',2017,verbose=True)\n",
    "\n",
    "df.shape\n",
    "df.dropna(inplace=True)\n",
    "df.shape"
   ]
  },
  {
   "cell_type": "code",
   "execution_count": null,
   "metadata": {},
   "outputs": [],
   "source": []
  },
  {
   "cell_type": "markdown",
   "metadata": {},
   "source": [
    "#  taux de tir moyen par heure de la ligue par emplacement"
   ]
  },
  {
   "cell_type": "code",
   "execution_count": 24,
   "metadata": {},
   "outputs": [],
   "source": [
    "# Vous pouvez ignorer le fait d'essayer de déterminer si un événement s'est produit\n",
    "# lors d'un avantage numérique ou d'un désavantage numérique.\n",
    "\n",
    "# Vous pouvez supposer que chaque match dure 60 minutes.\n",
    "\n",
    "data['coordinates'] = list(zip(data['coordinateX'],data['coordinateY']))\n",
    "\n",
    "hourly_shot_rate_per_position = data.groupby(['coordinates']).count()['gameId']\n"
   ]
  },
  {
   "cell_type": "code",
   "execution_count": 28,
   "metadata": {},
   "outputs": [
    {
     "data": {
      "text/plain": [
       "coordinates\n",
       "(79.0, 1.0)      405.0\n",
       "(-79.0, -1.0)    386.0\n",
       "(-79.0, 1.0)     384.0\n",
       "(78.0, 1.0)      381.0\n",
       "(-79.0, 0.0)     381.0\n",
       "                 ...  \n",
       "(6.0, 39.0)        1.0\n",
       "(6.0, 21.0)        1.0\n",
       "(6.0, 20.0)        1.0\n",
       "(6.0, 15.0)        1.0\n",
       "(99.0, 3.0)        1.0\n",
       "Length: 15101, dtype: float64"
      ]
     },
     "execution_count": 28,
     "metadata": {},
     "output_type": "execute_result"
    }
   ],
   "source": [
    "data.groupby(['coordinates','gameId']).count()['season'].unstack(level=1).sum(axis=1).sort_values(ascending=False)"
   ]
  },
  {
   "cell_type": "markdown",
   "metadata": {},
   "source": [
    "# Regroupez les tirs par équipe et utilisez les moyennes de ligue du taux de tir moyen par\n",
    "heure calculées ci-dessus pour calculer le la différence du taux de tir par heure pour\n",
    "chaque équipe avec la moyenne. Vous pouvez choisir de représenter cela soit comme\n",
    "une différence brute de buts entre les équipes, soit comme un pourcentage."
   ]
  },
  {
   "cell_type": "code",
   "execution_count": 16,
   "metadata": {},
   "outputs": [
    {
     "data": {
      "text/plain": [
       "awayTeam\n",
       "ANA    11924\n",
       "ARI    12008\n",
       "BOS    13713\n",
       "BUF    11869\n",
       "CAR    12486\n",
       "CBJ    12672\n",
       "CGY    12366\n",
       "CHI    12408\n",
       "COL    12878\n",
       "DAL    12652\n",
       "DET    11595\n",
       "EDM    12143\n",
       "FLA    12250\n",
       "LAK    11735\n",
       "MIN    12263\n",
       "MTL    12921\n",
       "NJD    12214\n",
       "NSH    13496\n",
       "NYI    13059\n",
       "NYR    12380\n",
       "OTT    12284\n",
       "PHI    11944\n",
       "PIT    13082\n",
       "SJS    12609\n",
       "STL    12850\n",
       "TBL    13711\n",
       "TOR    13252\n",
       "VAN    12204\n",
       "VGK    11012\n",
       "WPG    12700\n",
       "WSH    13149\n",
       "Name: season, dtype: int64"
      ]
     },
     "execution_count": 16,
     "metadata": {},
     "output_type": "execute_result"
    }
   ],
   "source": [
    "data.groupby(['awayTeam']).count()['season']"
   ]
  },
  {
   "cell_type": "code",
   "execution_count": null,
   "metadata": {},
   "outputs": [],
   "source": []
  }
 ],
 "metadata": {
  "kernelspec": {
   "display_name": "venv",
   "language": "python",
   "name": "python3"
  },
  "language_info": {
   "codemirror_mode": {
    "name": "ipython",
    "version": 3
   },
   "file_extension": ".py",
   "mimetype": "text/x-python",
   "name": "python",
   "nbconvert_exporter": "python",
   "pygments_lexer": "ipython3",
   "version": "3.11.5"
  }
 },
 "nbformat": 4,
 "nbformat_minor": 2
}
