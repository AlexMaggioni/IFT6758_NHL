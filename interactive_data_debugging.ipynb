{
 "cells": [
  {
   "cell_type": "code",
   "execution_count": 2,
   "metadata": {},
   "outputs": [
    {
     "data": {
      "text/plain": [
       "True"
      ]
     },
     "execution_count": 2,
     "metadata": {},
     "output_type": "execute_result"
    }
   ],
   "source": [
    "import ipywidgets\n",
    "from dotenv import load_dotenv\n",
    "\n",
    "import json\n",
    "import os\n",
    "from pathlib import Path\n",
    "from omegaconf import OmegaConf\n",
    "from pregex.core.quantifiers import Optional\n",
    "from pregex.core.groups import Capture\n",
    "from pregex.core.operators import Either\n",
    "from pregex.meta.essentials import Integer\n",
    "from pregex.core.classes import AnyLetter, AnyDigit\n",
    "from pregex.core.assertions import MatchAtEnd, MatchAtStart, EnclosedBy\n",
    "from pregex.core import Pregex\n",
    "\n",
    "from typing import Literal\n",
    "\n",
    "from ipywidgets import interact, interactive, fixed, interact_manual\n",
    "import ipywidgets as widgets\n",
    "\n",
    "load_dotenv()"
   ]
  },
  {
   "cell_type": "markdown",
   "metadata": {},
   "source": [
    "# Choose Season Year and Type of Game"
   ]
  },
  {
   "cell_type": "code",
   "execution_count": 3,
   "metadata": {},
   "outputs": [],
   "source": [
    "def extract_game_ids_regular_or_playoff(type_of_game : Literal[1,2,3,4], path_json_files : Path):\n",
    "    regex_filename = MatchAtStart(4*AnyDigit()) + str(type_of_game).zfill(2) + MatchAtEnd(4*AnyDigit())\n",
    "    return list(filter(lambda p : regex_filename.get_matches(p.stem), path_json_files.glob('*')))"
   ]
  },
  {
   "cell_type": "code",
   "execution_count": 4,
   "metadata": {},
   "outputs": [],
   "source": [
    "\n",
    "from typing import List\n",
    "\n",
    "\n",
    "def extract_gamestat_regular_or_playoff(\n",
    "    season_year : str,\n",
    "    type_of_game : Literal[1,2,3,4]\n",
    "    ) -> List[Path]:\n",
    "\n",
    "    if os.getenv('DATA_FOLDER'):\n",
    "        root_data_path = os.getenv('DATA_FOLDER')\n",
    "    else:\n",
    "        raise RuntimeError(f'''\n",
    "                            PLEASE RUN dotenv.load_dotenv() WITH SPECIFYING A VENV VAR: DATA_FOLDER\n",
    "                            ''')\n",
    "    \n",
    "    # The next 2 digits give the type of game, where 01 = preseason, 02 = regular season, 03 = playoffs, 04 = all-star\n",
    "    json_file_path = Path(root_data_path) / season_year \n",
    "    games_ids = extract_game_ids_regular_or_playoff(type_of_game, json_file_path)\n",
    "    return games_ids\n"
   ]
  },
  {
   "cell_type": "markdown",
   "metadata": {},
   "source": [
    "## TEST"
   ]
  },
  {
   "cell_type": "code",
   "execution_count": 5,
   "metadata": {},
   "outputs": [
    {
     "data": {
      "application/vnd.jupyter.widget-view+json": {
       "model_id": "60ce509f6ee54dec841f43b906f411bf",
       "version_major": 2,
       "version_minor": 0
      },
      "text/plain": [
       "interactive(children=(Dropdown(description='Choose the NHL Season year (2016 -> 2016-2017) : ', layout=Layout(…"
      ]
     },
     "metadata": {},
     "output_type": "display_data"
    },
    {
     "data": {
      "text/plain": [
       "<function __main__.extract_gamestat_regular_or_playoff(season_year: str, type_of_game: Literal[1, 2, 3, 4]) -> List[pathlib.Path]>"
      ]
     },
     "execution_count": 5,
     "metadata": {},
     "output_type": "execute_result"
    }
   ],
   "source": [
    "YEARS = list(map(lambda p : p.name, Path('./data/').glob('[0-9]*')))\n",
    "interact(\n",
    "    extract_gamestat_regular_or_playoff,\n",
    "    season_year = widgets.Dropdown(\n",
    "        options=YEARS,\n",
    "        value=YEARS[0],\n",
    "        description='Choose the NHL Season year (2016 -> 2016-2017) : ',\n",
    "        layout={'width': 'max-content'}\n",
    "    ),\n",
    "    type_of_game=widgets.ToggleButtons(\n",
    "        options = [1, 2, 3, 4],\n",
    "        value=3,\n",
    "        description='Select type of game : ',\n",
    "        tooltips=['Preseason', 'Regular season', 'Playoffs', 'All-Star'],\n",
    "        layout={'width': 'max-content'}\n",
    "    )\n",
    ")"
   ]
  },
  {
   "cell_type": "markdown",
   "metadata": {},
   "source": [
    "# Choose Game ID"
   ]
  },
  {
   "cell_type": "code",
   "execution_count": 16,
   "metadata": {},
   "outputs": [],
   "source": [
    "def extract_game_stat_per_games(\n",
    "        data_generator : list[Path],\n",
    "        game_id : int,\n",
    "\t\tverbose : bool = False,\n",
    "    ):\n",
    "\n",
    "\twith open(data_generator[game_id] ,'r') as json_file_buffer:\n",
    "\t\tfile_content = json.load(json_file_buffer)\n",
    "\tdata = OmegaConf.create(file_content)\n",
    "\n",
    "\tif verbose:\n",
    "\t\tprint(data.gameData.datetime.dateTime)\n",
    "\t\tprint(f' {data.gameData.teams.home.abbreviation} {data.gameData.teams.home.name} (home) vs {data.gameData.teams.away.abbreviation} {data.gameData.teams.away.name} (away)')    \n",
    "\t\tprint(f' \\t Final Score : {data.liveData.boxscore.teams.home.teamStats.teamSkaterStats.goals} - {data.liveData.boxscore.teams.away.teamStats.teamSkaterStats.goals}')    \n",
    "\t\tprint(f' \\t ShotsOnGoal : {data.liveData.boxscore.teams.home.teamStats.teamSkaterStats.shots} - {data.liveData.boxscore.teams.away.teamStats.teamSkaterStats.shots}')\n",
    "\t\tprint(f' \\t Nb. of OTs : {len(data.liveData.linescore.periods) - 3}')\n",
    "\treturn data"
   ]
  },
  {
   "cell_type": "markdown",
   "metadata": {},
   "source": [
    "## TEST"
   ]
  },
  {
   "cell_type": "code",
   "execution_count": 17,
   "metadata": {},
   "outputs": [
    {
     "data": {
      "application/vnd.jupyter.widget-view+json": {
       "model_id": "5f6c71eb03f849dda690bb3b7a5a69f8",
       "version_major": 2,
       "version_minor": 0
      },
      "text/plain": [
       "interactive(children=(IntSlider(value=0, description='Game ID:', max=82), Output()), _dom_classes=('widget-int…"
      ]
     },
     "metadata": {},
     "output_type": "display_data"
    },
    {
     "data": {
      "text/plain": [
       "<function __main__.extract_game_stat_per_games(data_generator: list[pathlib.Path], game_id: int, verbose: bool = False)>"
      ]
     },
     "execution_count": 17,
     "metadata": {},
     "output_type": "execute_result"
    }
   ],
   "source": [
    "interact(\n",
    "    extract_game_stat_per_games,\n",
    "    data_generator = fixed(extract_gamestat_regular_or_playoff(season_year='2016', type_of_game=3)),\n",
    "    game_id = widgets.IntSlider(\n",
    "        value=0,\n",
    "        min=0,\n",
    "        max=82,\n",
    "        step=1,\n",
    "        description='Game ID:',\n",
    "        disabled=False,\n",
    "        continuous_update=True,\n",
    "        orientation='horizontal',\n",
    "        readout=True,\n",
    "        readout_format='d',\n",
    "    ),\n",
    "    verbose = fixed(True)\n",
    ")"
   ]
  },
  {
   "cell_type": "markdown",
   "metadata": {},
   "source": [
    "# Choose Play ID to plot"
   ]
  },
  {
   "cell_type": "code",
   "execution_count": 18,
   "metadata": {},
   "outputs": [],
   "source": [
    "def plot_play_on_svg(\n",
    "        play_to_plot,\n",
    "        svg_file_path,\n",
    "    ):\n",
    "    '''\n",
    "    Using the library matplotlib and using svg_file_path as background image, \n",
    "    plot the coordinates of the play available `play_to_plot.coordinates`\n",
    "    with the title of the plot `f'{play_to_plot.team.name} play - {play_to_plot.result.description} - Period {play_to_plot.about.period} {play_to_plot.about.periodTime}'`\n",
    "    '''\n",
    "\n",
    "    import matplotlib.pyplot as plt\n",
    "    import matplotlib.image as mpimg\n",
    "    import numpy as np\n",
    "\n",
    "    img = mpimg.imread(svg_file_path)\n",
    "\n",
    "    # Create a figure and axis\n",
    "    fig, ax = plt.subplots()\n",
    "    ax.imshow(img,origin='lower')\n",
    "\n",
    "    # Set the tick positions and labels\n",
    "    ax.set_xticks([0, img.shape[1] // 2, img.shape[1]])\n",
    "    ax.set_yticks([0, img.shape[0] // 2, img.shape[0]])\n",
    "    ax.set_xticklabels([-img.shape[1] // 2, 0, img.shape[1] // 2])\n",
    "    ax.set_yticklabels([-img.shape[0] // 2, 0, img.shape[0] // 2])\n",
    "\n",
    "    coords = np.array(list(map(int, play_to_plot.coordinates.values()))) + np.array([img.shape[1] // 2, img.shape[0] // 2])\n",
    "    ax.plot(*coords, 'go')\n",
    "\n",
    "    plt.title(f'{play_to_plot.team.name} play - {play_to_plot.result.description} - Period {play_to_plot.about.period} {play_to_plot.about.periodTime}')\n",
    "    plt.show()"
   ]
  },
  {
   "cell_type": "code",
   "execution_count": 37,
   "metadata": {},
   "outputs": [],
   "source": [
    "from rich import print as rprint\n",
    "from pprint import pprint as pp"
   ]
  },
  {
   "cell_type": "code",
   "execution_count": 44,
   "metadata": {},
   "outputs": [],
   "source": [
    "def display_on_hockey_court_play(data_plays, index_play, svg_file_path : Path):\n",
    "    '''\n",
    "    Display on top of the svg file the current play coordinates available in `data_plays[index_play].`\n",
    "    \n",
    "    '''\n",
    "\n",
    "    list_of_plays = data_plays.liveData.plays.allPlays\n",
    "    \n",
    "\n",
    "    play_of_interest = list_of_plays[index_play]\n",
    "    if not play_of_interest.coordinates == {}:\n",
    "        plot_play_on_svg(list_of_plays[index_play], svg_file_path)\n",
    "    else:\n",
    "        print('No coordinates available for this play')\n",
    "    \n",
    "    print(json.dumps(OmegaConf.to_object(play_of_interest), indent=4))"
   ]
  },
  {
   "cell_type": "markdown",
   "metadata": {},
   "source": [
    "## TEST"
   ]
  },
  {
   "cell_type": "code",
   "execution_count": 43,
   "metadata": {},
   "outputs": [
    {
     "data": {
      "application/vnd.jupyter.widget-view+json": {
       "model_id": "46e431b06f154694b974d40c7539ff6b",
       "version_major": 2,
       "version_minor": 0
      },
      "text/plain": [
       "interactive(children=(IntSlider(value=0, description='Play ID:', max=595), Output()), _dom_classes=('widget-in…"
      ]
     },
     "metadata": {},
     "output_type": "display_data"
    },
    {
     "data": {
      "text/plain": [
       "<function __main__.display_on_hockey_court_play(data_plays, index_play, svg_file_path: pathlib.Path)>"
      ]
     },
     "execution_count": 43,
     "metadata": {},
     "output_type": "execute_result"
    }
   ],
   "source": [
    "interact(\n",
    "    display_on_hockey_court_play,\n",
    "    data_plays = fixed(extract_game_stat_per_games(\n",
    "        data_generator = extract_gamestat_regular_or_playoff(season_year='2016', type_of_game=3),\n",
    "        game_id = 0,\n",
    "        verbose=False,\n",
    "    )),\n",
    "    index_play = widgets.IntSlider(\n",
    "        value=0,\n",
    "        min=0,\n",
    "        max=len(extract_game_stat_per_games(\n",
    "            data_generator = extract_gamestat_regular_or_playoff(season_year='2016', type_of_game=3),\n",
    "            game_id = 0,\n",
    "        ).liveData.plays.allPlays),\n",
    "        step=1,\n",
    "        description='Play ID:',\n",
    "        disabled=False,\n",
    "        continuous_update=True,\n",
    "        orientation='horizontal',\n",
    "        readout=True,\n",
    "        readout_format='d',\n",
    "    ),\n",
    "    svg_file_path = fixed('./hocker_court.jpg')\n",
    ")\n"
   ]
  },
  {
   "cell_type": "markdown",
   "metadata": {},
   "source": [
    "# Debugging Widget"
   ]
  },
  {
   "cell_type": "code",
   "execution_count": 45,
   "metadata": {},
   "outputs": [],
   "source": [
    "def display_game_stat(\n",
    "        season_year : str,\n",
    "        type_of_game : Literal[1,2,3,4],\n",
    "        game_id : int,\n",
    "        index_play : int,\n",
    "        SVG_FILE_PATH : str\n",
    "    ):\n",
    "\n",
    "    path_files_generator = extract_gamestat_regular_or_playoff(season_year, type_of_game)\n",
    "    data_plays = extract_game_stat_per_games(path_files_generator, game_id, verbose=True)\n",
    "    display_on_hockey_court_play( data_plays, index_play, SVG_FILE_PATH)"
   ]
  },
  {
   "cell_type": "code",
   "execution_count": 50,
   "metadata": {},
   "outputs": [
    {
     "data": {
      "application/vnd.jupyter.widget-view+json": {
       "model_id": "3d3d4283d2b0402192e6b06c601e8bf9",
       "version_major": 2,
       "version_minor": 0
      },
      "text/plain": [
       "interactive(children=(Dropdown(description='Choose the NHL Season year (2016 -> 2016-2017) : ', layout=Layout(…"
      ]
     },
     "metadata": {},
     "output_type": "display_data"
    },
    {
     "data": {
      "text/plain": [
       "<function __main__.display_game_stat(season_year: str, type_of_game: Literal[1, 2, 3, 4], game_id: int, index_play: int, SVG_FILE_PATH: str)>"
      ]
     },
     "execution_count": 50,
     "metadata": {},
     "output_type": "execute_result"
    }
   ],
   "source": [
    "season_selected_widget = widgets.Dropdown(\n",
    "    options=YEARS,\n",
    "    value=YEARS[0],\n",
    "    description=\"Choose the NHL Season year (2016 -> 2016-2017) : \",\n",
    "    layout={\"width\": \"max-content\"},\n",
    ")\n",
    "\n",
    "type_game_selected_widget = widgets.ToggleButtons(\n",
    "    options=[1, 2, 3, 4],\n",
    "    value=3,\n",
    "    description=\"Select type of game : \",\n",
    "    tooltips=[\"Preseason\", \"Regular season\", \"Playoffs\", \"All-Star\"],\n",
    "    layout={\"width\": \"max-content\"},\n",
    ")\n",
    "\n",
    "game_id_widget = widgets.IntSlider(\n",
    "    value=0,\n",
    "    min=0,\n",
    "    max=1000,\n",
    "    step=1,\n",
    "    description=\"Game ID:\",\n",
    "    disabled=False,\n",
    "    continuous_update=True,\n",
    "    orientation=\"horizontal\",\n",
    "    readout=True,\n",
    "    readout_format=\"d\",\n",
    ")\n",
    "\n",
    "play_id_widget = widgets.IntSlider(\n",
    "    value=0,\n",
    "    min=0,\n",
    "    max=1000,\n",
    "    step=1,\n",
    "    description=\"Play ID:\",\n",
    "    disabled=False,\n",
    "    continuous_update=True,\n",
    "    orientation=\"horizontal\",\n",
    "    readout=True,\n",
    "    readout_format=\"d\",\n",
    ")\n",
    "\n",
    "SVG_FILE_PATH = \"./hocker_court.jpg\"\n",
    "\n",
    "def update_game_id_widget_max(*args):\n",
    "    game_id_widget.max = len(\n",
    "        extract_gamestat_regular_or_playoff(\n",
    "            season_selected_widget.value, type_game_selected_widget.value\n",
    "        ) \n",
    "    )- 1\n",
    "\n",
    "\n",
    "type_game_selected_widget.observe(update_game_id_widget_max, \"value\")\n",
    "\n",
    "\n",
    "def update_play_id_widget_max(*args):\n",
    "    play_id_widget.max = len(\n",
    "        extract_game_stat_per_games(\n",
    "                data_generator=extract_gamestat_regular_or_playoff(\n",
    "                    season_year=season_selected_widget.value,\n",
    "                    type_of_game=type_game_selected_widget.value,\n",
    "                ),\n",
    "                game_id=game_id_widget.value,\n",
    "            ).liveData.plays.allPlays\n",
    "        ) - 1\n",
    "\n",
    "\n",
    "type_game_selected_widget.observe(update_play_id_widget_max, \"value\")\n",
    "\n",
    "interact(\n",
    "    display_game_stat,\n",
    "    season_year=season_selected_widget,\n",
    "    type_of_game=type_game_selected_widget,\n",
    "    game_id=game_id_widget,\n",
    "    index_play=play_id_widget,\n",
    "    SVG_FILE_PATH=fixed(SVG_FILE_PATH),\n",
    ")"
   ]
  }
 ],
 "metadata": {
  "kernelspec": {
   "display_name": "venv",
   "language": "python",
   "name": "python3"
  },
  "language_info": {
   "codemirror_mode": {
    "name": "ipython",
    "version": 3
   },
   "file_extension": ".py",
   "mimetype": "text/x-python",
   "name": "python",
   "nbconvert_exporter": "python",
   "pygments_lexer": "ipython3",
   "version": "3.11.5"
  },
  "orig_nbformat": 4
 },
 "nbformat": 4,
 "nbformat_minor": 2
}
