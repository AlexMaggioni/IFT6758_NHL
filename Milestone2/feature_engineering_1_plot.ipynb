{
 "cells": [
  {
   "cell_type": "code",
   "execution_count": null,
   "metadata": {},
   "outputs": [],
   "source": [
    "%load_ext autoreload\n",
    "%autoreload 2"
   ]
  },
  {
   "cell_type": "code",
   "execution_count": null,
   "metadata": {},
   "outputs": [],
   "source": [
    "import hydra\n",
    "import os\n",
    "from pathlib import Path\n",
    "from omegaconf import DictConfig\n",
    "import pandas as pd\n",
    "from rich import print\n",
    "\n",
    "import sys \n",
    "sys.path.append('/home/lolo/Documents/UDEM_courses/session_automne_2023/data_science/projet_NHL_repo/IFT6758_NHL/')\n",
    "\n",
    "\n",
    "from utils import init_logger, verify_dotenv_file\n",
    "from feature_engineering import NHL_Feature_Engineering\n",
    "\n",
    "from ipywidgets import interact, interactive, fixed, interact_manual, widgets\n",
    "\n",
    "verify_dotenv_file(Path('../'))\n",
    "logger=init_logger('test_feature_engineering.log')\n",
    "\n",
    "PATH_HOCKEY_COURT='../assets/hocker_court.jpg'"
   ]
  }
 ],
 "metadata": {
  "language_info": {
   "name": "python"
  }
 },
 "nbformat": 4,
 "nbformat_minor": 2
}
